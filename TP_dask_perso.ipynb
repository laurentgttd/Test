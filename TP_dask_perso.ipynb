{
 "cells": [
  {
   "cell_type": "markdown",
   "id": "2828d815-98c5-49c0-b440-205923425c9b",
   "metadata": {
    "tags": []
   },
   "source": [
    "# Introduction à Dask"
   ]
  },
  {
   "cell_type": "code",
   "execution_count": 1,
   "id": "bcc8bfc2-2238-48c8-a1ad-10875fb190cd",
   "metadata": {},
   "outputs": [],
   "source": [
    "# Les classiques\n",
    "import numpy as np\n",
    "import matplotlib.pyplot as plt\n",
    "\n",
    "# \"Scheduler\" dask\n",
    "from dask.distributed import LocalCluster, Client\n",
    "\n",
    "# Structures de données\n",
    "import dask\n",
    "import dask.bag as db\n",
    "import dask.array as da\n",
    "import dask.dataframe as dd\n",
    "\n",
    "# Misc\n",
    "from time import sleep"
   ]
  },
  {
   "cell_type": "markdown",
   "id": "6a85772b-e76d-4535-9854-d184f60be016",
   "metadata": {},
   "source": [
    "---\n",
    "\n",
    "### Préliminaire\n",
    "\n",
    "Pour chronométrer le temps d'exécution d'une cellule, on utilisera la \"commande magique\" `%%time` qui permet de mesurer le temps d'exécution d'une cellule entière, de la manière suivante :"
   ]
  },
  {
   "cell_type": "code",
   "execution_count": 2,
   "id": "0ee63080-21cc-4822-9870-5e87e55e3d36",
   "metadata": {},
   "outputs": [
    {
     "name": "stdout",
     "output_type": "stream",
     "text": [
      "Wall time: 1.01 s\n"
     ]
    }
   ],
   "source": [
    "%%time\n",
    "\n",
    "sleep(1)  # on fait dormir python  pendant 1 s"
   ]
  },
  {
   "cell_type": "markdown",
   "id": "c61aa03a-8dc9-412f-8372-125b97d1c7e2",
   "metadata": {},
   "source": [
    "La partie qui nous intéresse est ce qui suit `Wall time:`, soit ici 1 seconde."
   ]
  },
  {
   "cell_type": "markdown",
   "id": "d78e031f-8117-4944-985e-6bdcef8d916e",
   "metadata": {},
   "source": [
    "---\n",
    "\n",
    "---\n",
    "\n",
    "---\n",
    "\n",
    "## PARTIE 1 \n",
    "### Usages basiques de `dask`\n",
    "\n",
    "Dans cette partie, on va considérer un premier cas trivial de parallélisation. Cela va permettre de se rendre compte effectivement de son effet sur l'exécution d'un grand nombre de tâches un peu longues.\n",
    "\n",
    "On se familiarisera aussi avec l'instanciation explicite d'un `cluster`, d'un `client` et le suivi des calculs sur le *dashboard* `dask`."
   ]
  },
  {
   "cell_type": "markdown",
   "id": "33a8585e-9f87-445a-b7a6-42cecb73a315",
   "metadata": {},
   "source": [
    "---\n",
    "\n",
    "### Question 1\n",
    "\n",
    "On va commencer par coder une fonction qui évalue **très lentement** le carré d'un nombre.\n",
    "\n",
    "Complétez la fonction `square` suivante de telle sorte à ce qu'elle retourne *le carré* de l'argument `x` *en prenant une seconde*. On pourra utiliser pour cela la fonction `sleep(n)` qui fait arrête le programme pendant `n` secondes avant de passer à l'exécution de la ligne suivante."
   ]
  },
  {
   "cell_type": "code",
   "execution_count": 3,
   "id": "70d9214c-8ded-49bf-873e-28b4e11789d4",
   "metadata": {},
   "outputs": [
    {
     "name": "stdout",
     "output_type": "stream",
     "text": [
      "Wall time: 1.01 s\n"
     ]
    },
    {
     "data": {
      "text/plain": [
       "9"
      ]
     },
     "execution_count": 3,
     "metadata": {},
     "output_type": "execute_result"
    }
   ],
   "source": [
    "%%time\n",
    "\n",
    "def square(x):\n",
    "    # à compléter\n",
    "    x_square = x**2\n",
    "    sleep(1)\n",
    "    return x_square\n",
    "    \n",
    "square(3)"
   ]
  },
  {
   "cell_type": "markdown",
   "id": "18c4c237-4bc5-49c2-a19d-b840e5707558",
   "metadata": {},
   "source": [
    "On peut à présenter tester l'inefficacité de notre fonction en calculant le carré des 20 premiers entiers et en vérifiant que cela prend bien 20 s. On pourra utiliser la fonction `map()`"
   ]
  },
  {
   "cell_type": "code",
   "execution_count": 4,
   "id": "ba48adac-fbda-4cf3-b644-cd814e28e330",
   "metadata": {
    "pycharm": {
     "is_executing": true
    }
   },
   "outputs": [
    {
     "name": "stdout",
     "output_type": "stream",
     "text": [
      "Wall time: 20.1 s\n"
     ]
    }
   ],
   "source": [
    "%%time\n",
    "\n",
    "# à compléter\n",
    "first_integers = np.arange(20)\n",
    "\n",
    "first_squares = list(map(square, first_integers))"
   ]
  },
  {
   "cell_type": "code",
   "execution_count": 5,
   "id": "2a4f7f25",
   "metadata": {},
   "outputs": [],
   "source": [
    "# %%time\n",
    "\n",
    "# first_squares = [square(i) for i in first_integers]"
   ]
  },
  {
   "cell_type": "markdown",
   "id": "12866b9a-004b-4160-b39c-cecdc04f142e",
   "metadata": {
    "tags": []
   },
   "source": [
    "---\n",
    "\n",
    "### Question 2\n",
    "\n",
    "On va à présent essayer de paralléliser cette opération qui est assez trivialement *embarassingly parallel* (c'est-à-dire qu'on peut appliquer la fonction `square` indépendamment sur chaque élément de la liste, sans avoir besoin du résultat d'une autre opération).\n",
    "\n",
    "Pour cela, on va utiliser le module `dask.bag`, importé précédemment sous l'alias `db`. \n",
    "\n",
    "Un `bag` est essentiellement un ensemble non-ordonné d'éléments conçu pour y appliquer des opérations en parallèle; et typiquement utilisé dans les problèmes *embarassingly parallel*.\n",
    "\n",
    "Commencez par créer un bag `first_int_bag` contenant les 20 premiers entiers. On pourra utiliser `db.range` ou `db.from_sequence`. "
   ]
  },
  {
   "cell_type": "code",
   "execution_count": 6,
   "id": "77cec3f5-8091-45f1-b0f8-357c280db9a5",
   "metadata": {},
   "outputs": [],
   "source": [
    "# à compléter\n",
    "first_int_bag = db.from_sequence(first_integers)\n",
    "# first_int_bag = db.from_sequence(first_integers, npartitions=10)"
   ]
  },
  {
   "cell_type": "markdown",
   "id": "9341d66c-fab8-4963-9d10-a77ae0af11b2",
   "metadata": {},
   "source": [
    "Appliquez maintenant la fonction `square` à cet ensemble en utilisant la méthode `.map`, qui applique une fonction `f` donnée à l'ensemble des éléments du `bag` :"
   ]
  },
  {
   "cell_type": "code",
   "execution_count": 7,
   "id": "37258c9e-e7cb-49c6-a1ab-ce620b1da398",
   "metadata": {
    "pycharm": {
     "is_executing": true
    }
   },
   "outputs": [
    {
     "name": "stdout",
     "output_type": "stream",
     "text": [
      "Wall time: 0 ns\n"
     ]
    }
   ],
   "source": [
    "%%time\n",
    "\n",
    "# à compléter\n",
    "first_sqr_bag = first_int_bag.map(square)   # mieux que for el in first_int_bag car on demande pas explicitement les éléments\n"
   ]
  },
  {
   "cell_type": "markdown",
   "id": "30a99a33-f55a-4aea-ba40-c606f68dae1c",
   "metadata": {},
   "source": [
    "Cette opération est plutôt rapide ! Il s'agit à présent de vérifier le résultat.\n",
    "\n",
    "Pour cela, affichez chaque élément du résultat dans le terminal."
   ]
  },
  {
   "cell_type": "code",
   "execution_count": 8,
   "id": "f67b9b56-a114-4ebf-9308-826a4792772f",
   "metadata": {
    "pycharm": {
     "is_executing": true
    }
   },
   "outputs": [
    {
     "name": "stdout",
     "output_type": "stream",
     "text": [
      "0\n",
      "1\n",
      "4\n",
      "9\n",
      "16\n",
      "25\n",
      "36\n",
      "49\n",
      "64\n",
      "81\n",
      "100\n",
      "121\n",
      "144\n",
      "169\n",
      "196\n",
      "225\n",
      "256\n",
      "289\n",
      "324\n",
      "361\n",
      "Wall time: 9.06 s\n"
     ]
    }
   ],
   "source": [
    "%%time\n",
    "\n",
    "for el in first_sqr_bag:\n",
    "    # à compléter\n",
    "    print(el)"
   ]
  },
  {
   "cell_type": "markdown",
   "id": "e2687f44-e6ca-4249-99bb-e8b618e6d22f",
   "metadata": {},
   "source": [
    "On devrait se rendre compte que cela met un certain temps à être executé - temps *plus long* même que dans la version précédente.\n",
    "\n",
    "C'est parce que le simple appel à la méthode `.map` ne suffit pas pour calculer le résultat : il faut encore dire à `dask` d'effectivement réaliser les calculs qu'on lui a demandés. C'est ce qui se passe implicitement lorsque qu'on utilise la fonction `print` par exemple. En pratique, il vaut cependant mieux demander explicitement avant tout affichage des résultats.\n",
    "\n",
    "Pour cela, compléter la cellule suivante pour calculer et charger les données dans une variable `first_sqr_computed`, au moyen de la méthode `.compute()`."
   ]
  },
  {
   "cell_type": "code",
   "execution_count": 9,
   "id": "4cf38f18-378a-425f-86c5-69c6adfff4ec",
   "metadata": {
    "pycharm": {
     "is_executing": true
    }
   },
   "outputs": [
    {
     "name": "stdout",
     "output_type": "stream",
     "text": [
      "Wall time: 8.24 s\n"
     ]
    }
   ],
   "source": [
    "%%time \n",
    "\n",
    "# à compléter\n",
    "first_sqr_computed = first_sqr_bag.compute()"
   ]
  },
  {
   "cell_type": "markdown",
   "id": "ac853bc7-4a40-4612-b948-62b25334638d",
   "metadata": {},
   "source": [
    "Cela prend toujours un certain temps, supérieur à celui sans utilisation de la structure de`bag`. \n",
    "\n",
    "Il s'agit en fait d'un problème de partition. Notre jeu de données doit être partitionné en sous-ensembles qui vont être traités séparemment, chacun par un *worker* `dask` : ici, le fait de ne pas avoir préciser de nombre de partition fait que `dask` a supposé automatiquement le nombre de partitions - ici 1 : il n'y a donc eu aucune parallélisation des calculs.\n",
    "\n",
    "Modifiez la cellule suivante pour ajuster le nombre de partitions de notre `bag`. Essayez de trouver la valeur optimale de partitions, et essayez d'en déduire combien de `workers` ont été lancés de manière implicite. "
   ]
  },
  {
   "cell_type": "code",
   "execution_count": 10,
   "id": "cc8561a2-b837-4253-b3ae-1c3b8c20e24d",
   "metadata": {
    "pycharm": {
     "is_executing": true
    }
   },
   "outputs": [
    {
     "name": "stdout",
     "output_type": "stream",
     "text": [
      "Wall time: 7.13 s\n"
     ]
    }
   ],
   "source": [
    "%%time \n",
    "\n",
    "first_sqr_bag.npartitions  = 10     #  nb de sous ensemble (par def tous de la meme taille)\n",
    "first_sqr_computed = first_sqr_bag.compute()"
   ]
  },
  {
   "cell_type": "markdown",
   "id": "e7388cad-7a20-4db6-af9d-2c2d96012923",
   "metadata": {},
   "source": [
    "---\n",
    "\n",
    "### Question 3\n",
    "\n",
    "On va à présent dire à `dask` explicitement la puissance de calcul qu'il peut utiliser. \n",
    "\n",
    "Pour cela, on va utiliser les structures `LocalCluster` et `Client` importées précédemment. \n",
    "\n",
    "Commencez par connaitre le nombre de coeurs physiques de votre machine - éventuellement *hyperthreadés* - c'est-à-dire avec la capacités de réaliser plusieurs tâches **réellement** *en parallèle*. Cette information est en général accessible dans les menu Paramètres de votre ordinateur, ou en bash avec les commandes :\n",
    "\n",
    "```bash\n",
    "grep ^cpu\\\\scores /proc/cpuinfo | uniq |  awk '{print $4}'\n",
    "```\n",
    "(nombre de coeurs *physiques*)\n",
    "\n",
    "ou\n",
    "```bash\n",
    "grep -c ^processor /proc/cpuinfo\n",
    "```\n",
    "(nombre de coeurs *pratiques*).\n",
    "\n",
    "Complétez ensuite les lignes suivantes pour définir le nombre de coeurs à attribuer ) `dask`, et brancher le client sur le cluster ainsi défini. Attention à ne pas attribuer trop de coeurs à `dask`, et à en conserver un de libre pour faire tourner les autres processus de votre ordinateur !"
   ]
  },
  {
   "cell_type": "code",
   "execution_count": 11,
   "id": "24439276-a34c-459b-a667-c46aeb2e65f2",
   "metadata": {
    "pycharm": {
     "is_executing": true
    }
   },
   "outputs": [],
   "source": [
    "cluster = LocalCluster(\n",
    "    n_workers = 2,\n",
    "    threads_per_worker=2\n",
    ")\n",
    "client = Client(cluster)"
   ]
  },
  {
   "cell_type": "markdown",
   "id": "31481269-8920-4e62-8369-7cc0b72423f1",
   "metadata": {},
   "source": [
    "--- \n",
    "\n",
    "### Question 4\n",
    "\n",
    "Une des caractéristiques **fondamentales** de `dask` est la capacité de de surveiller l'état du cluster et l'avancement des calculs via le *dashboard* `dask`. Celui-ci peut être affiché via un navigateur en y entrant le lien fournit par `dask`. \n",
    "\n",
    "Sous `jupyter`, il suffit de demander à afficher le `client` interactivement dans une cellule, puis de cliquer sur le lien qui sera affiché."
   ]
  },
  {
   "cell_type": "code",
   "execution_count": 12,
   "id": "f30eaf8b-f9b0-4a26-bb2b-9807afa7a3f8",
   "metadata": {
    "pycharm": {
     "is_executing": true
    }
   },
   "outputs": [
    {
     "data": {
      "text/html": [
       "<div>\n",
       "    <div style=\"width: 24px; height: 24px; background-color: #e1e1e1; border: 3px solid #9D9D9D; border-radius: 5px; position: absolute;\"> </div>\n",
       "    <div style=\"margin-left: 48px;\">\n",
       "        <h3 style=\"margin-bottom: 0px;\">Client</h3>\n",
       "        <p style=\"color: #9D9D9D; margin-bottom: 0px;\">Client-dea18924-d395-11ed-99a8-88b1111c8e4f</p>\n",
       "        <table style=\"width: 100%; text-align: left;\">\n",
       "\n",
       "        <tr>\n",
       "        \n",
       "            <td style=\"text-align: left;\"><strong>Connection method:</strong> Cluster object</td>\n",
       "            <td style=\"text-align: left;\"><strong>Cluster type:</strong> distributed.LocalCluster</td>\n",
       "        \n",
       "        </tr>\n",
       "\n",
       "        \n",
       "            <tr>\n",
       "                <td style=\"text-align: left;\">\n",
       "                    <strong>Dashboard: </strong> <a href=\"http://127.0.0.1:8787/status\" target=\"_blank\">http://127.0.0.1:8787/status</a>\n",
       "                </td>\n",
       "                <td style=\"text-align: left;\"></td>\n",
       "            </tr>\n",
       "        \n",
       "\n",
       "        </table>\n",
       "\n",
       "        \n",
       "            <details>\n",
       "            <summary style=\"margin-bottom: 20px;\"><h3 style=\"display: inline;\">Cluster Info</h3></summary>\n",
       "            <div class=\"jp-RenderedHTMLCommon jp-RenderedHTML jp-mod-trusted jp-OutputArea-output\">\n",
       "    <div style=\"width: 24px; height: 24px; background-color: #e1e1e1; border: 3px solid #9D9D9D; border-radius: 5px; position: absolute;\">\n",
       "    </div>\n",
       "    <div style=\"margin-left: 48px;\">\n",
       "        <h3 style=\"margin-bottom: 0px; margin-top: 0px;\">LocalCluster</h3>\n",
       "        <p style=\"color: #9D9D9D; margin-bottom: 0px;\">151529c8</p>\n",
       "        <table style=\"width: 100%; text-align: left;\">\n",
       "            <tr>\n",
       "                <td style=\"text-align: left;\">\n",
       "                    <strong>Dashboard:</strong> <a href=\"http://127.0.0.1:8787/status\" target=\"_blank\">http://127.0.0.1:8787/status</a>\n",
       "                </td>\n",
       "                <td style=\"text-align: left;\">\n",
       "                    <strong>Workers:</strong> 2\n",
       "                </td>\n",
       "            </tr>\n",
       "            <tr>\n",
       "                <td style=\"text-align: left;\">\n",
       "                    <strong>Total threads:</strong> 4\n",
       "                </td>\n",
       "                <td style=\"text-align: left;\">\n",
       "                    <strong>Total memory:</strong> 15.89 GiB\n",
       "                </td>\n",
       "            </tr>\n",
       "            \n",
       "            <tr>\n",
       "    <td style=\"text-align: left;\"><strong>Status:</strong> running</td>\n",
       "    <td style=\"text-align: left;\"><strong>Using processes:</strong> True</td>\n",
       "</tr>\n",
       "\n",
       "            \n",
       "        </table>\n",
       "\n",
       "        <details>\n",
       "            <summary style=\"margin-bottom: 20px;\">\n",
       "                <h3 style=\"display: inline;\">Scheduler Info</h3>\n",
       "            </summary>\n",
       "\n",
       "            <div style=\"\">\n",
       "    <div>\n",
       "        <div style=\"width: 24px; height: 24px; background-color: #FFF7E5; border: 3px solid #FF6132; border-radius: 5px; position: absolute;\"> </div>\n",
       "        <div style=\"margin-left: 48px;\">\n",
       "            <h3 style=\"margin-bottom: 0px;\">Scheduler</h3>\n",
       "            <p style=\"color: #9D9D9D; margin-bottom: 0px;\">Scheduler-52f76c1e-24ac-49f1-991b-7db01fbfeed4</p>\n",
       "            <table style=\"width: 100%; text-align: left;\">\n",
       "                <tr>\n",
       "                    <td style=\"text-align: left;\">\n",
       "                        <strong>Comm:</strong> tcp://127.0.0.1:53835\n",
       "                    </td>\n",
       "                    <td style=\"text-align: left;\">\n",
       "                        <strong>Workers:</strong> 2\n",
       "                    </td>\n",
       "                </tr>\n",
       "                <tr>\n",
       "                    <td style=\"text-align: left;\">\n",
       "                        <strong>Dashboard:</strong> <a href=\"http://127.0.0.1:8787/status\" target=\"_blank\">http://127.0.0.1:8787/status</a>\n",
       "                    </td>\n",
       "                    <td style=\"text-align: left;\">\n",
       "                        <strong>Total threads:</strong> 4\n",
       "                    </td>\n",
       "                </tr>\n",
       "                <tr>\n",
       "                    <td style=\"text-align: left;\">\n",
       "                        <strong>Started:</strong> Just now\n",
       "                    </td>\n",
       "                    <td style=\"text-align: left;\">\n",
       "                        <strong>Total memory:</strong> 15.89 GiB\n",
       "                    </td>\n",
       "                </tr>\n",
       "            </table>\n",
       "        </div>\n",
       "    </div>\n",
       "\n",
       "    <details style=\"margin-left: 48px;\">\n",
       "        <summary style=\"margin-bottom: 20px;\">\n",
       "            <h3 style=\"display: inline;\">Workers</h3>\n",
       "        </summary>\n",
       "\n",
       "        \n",
       "        <div style=\"margin-bottom: 20px;\">\n",
       "            <div style=\"width: 24px; height: 24px; background-color: #DBF5FF; border: 3px solid #4CC9FF; border-radius: 5px; position: absolute;\"> </div>\n",
       "            <div style=\"margin-left: 48px;\">\n",
       "            <details>\n",
       "                <summary>\n",
       "                    <h4 style=\"margin-bottom: 0px; display: inline;\">Worker: 0</h4>\n",
       "                </summary>\n",
       "                <table style=\"width: 100%; text-align: left;\">\n",
       "                    <tr>\n",
       "                        <td style=\"text-align: left;\">\n",
       "                            <strong>Comm: </strong> tcp://127.0.0.1:53851\n",
       "                        </td>\n",
       "                        <td style=\"text-align: left;\">\n",
       "                            <strong>Total threads: </strong> 2\n",
       "                        </td>\n",
       "                    </tr>\n",
       "                    <tr>\n",
       "                        <td style=\"text-align: left;\">\n",
       "                            <strong>Dashboard: </strong> <a href=\"http://127.0.0.1:53853/status\" target=\"_blank\">http://127.0.0.1:53853/status</a>\n",
       "                        </td>\n",
       "                        <td style=\"text-align: left;\">\n",
       "                            <strong>Memory: </strong> 7.94 GiB\n",
       "                        </td>\n",
       "                    </tr>\n",
       "                    <tr>\n",
       "                        <td style=\"text-align: left;\">\n",
       "                            <strong>Nanny: </strong> tcp://127.0.0.1:53839\n",
       "                        </td>\n",
       "                        <td style=\"text-align: left;\"></td>\n",
       "                    </tr>\n",
       "                    <tr>\n",
       "                        <td colspan=\"2\" style=\"text-align: left;\">\n",
       "                            <strong>Local directory: </strong> C:\\Users\\Tonton\\Documents\\Formation 1 - PandasXarray\\Formation2_Dask_5Avril23\\Notebooks\\dask-worker-space\\worker-4y57xmhe\n",
       "                        </td>\n",
       "                    </tr>\n",
       "\n",
       "                    \n",
       "\n",
       "                    \n",
       "\n",
       "                </table>\n",
       "            </details>\n",
       "            </div>\n",
       "        </div>\n",
       "        \n",
       "        <div style=\"margin-bottom: 20px;\">\n",
       "            <div style=\"width: 24px; height: 24px; background-color: #DBF5FF; border: 3px solid #4CC9FF; border-radius: 5px; position: absolute;\"> </div>\n",
       "            <div style=\"margin-left: 48px;\">\n",
       "            <details>\n",
       "                <summary>\n",
       "                    <h4 style=\"margin-bottom: 0px; display: inline;\">Worker: 1</h4>\n",
       "                </summary>\n",
       "                <table style=\"width: 100%; text-align: left;\">\n",
       "                    <tr>\n",
       "                        <td style=\"text-align: left;\">\n",
       "                            <strong>Comm: </strong> tcp://127.0.0.1:53850\n",
       "                        </td>\n",
       "                        <td style=\"text-align: left;\">\n",
       "                            <strong>Total threads: </strong> 2\n",
       "                        </td>\n",
       "                    </tr>\n",
       "                    <tr>\n",
       "                        <td style=\"text-align: left;\">\n",
       "                            <strong>Dashboard: </strong> <a href=\"http://127.0.0.1:53852/status\" target=\"_blank\">http://127.0.0.1:53852/status</a>\n",
       "                        </td>\n",
       "                        <td style=\"text-align: left;\">\n",
       "                            <strong>Memory: </strong> 7.94 GiB\n",
       "                        </td>\n",
       "                    </tr>\n",
       "                    <tr>\n",
       "                        <td style=\"text-align: left;\">\n",
       "                            <strong>Nanny: </strong> tcp://127.0.0.1:53838\n",
       "                        </td>\n",
       "                        <td style=\"text-align: left;\"></td>\n",
       "                    </tr>\n",
       "                    <tr>\n",
       "                        <td colspan=\"2\" style=\"text-align: left;\">\n",
       "                            <strong>Local directory: </strong> C:\\Users\\Tonton\\Documents\\Formation 1 - PandasXarray\\Formation2_Dask_5Avril23\\Notebooks\\dask-worker-space\\worker-h0d5sgdh\n",
       "                        </td>\n",
       "                    </tr>\n",
       "\n",
       "                    \n",
       "\n",
       "                    \n",
       "\n",
       "                </table>\n",
       "            </details>\n",
       "            </div>\n",
       "        </div>\n",
       "        \n",
       "\n",
       "    </details>\n",
       "</div>\n",
       "\n",
       "        </details>\n",
       "    </div>\n",
       "</div>\n",
       "            </details>\n",
       "        \n",
       "\n",
       "    </div>\n",
       "</div>"
      ],
      "text/plain": [
       "<Client: 'tcp://127.0.0.1:53835' processes=2 threads=4, memory=15.89 GiB>"
      ]
     },
     "execution_count": 12,
     "metadata": {},
     "output_type": "execute_result"
    }
   ],
   "source": [
    "# lancez cette cellule\n",
    "client"
   ]
  },
  {
   "cell_type": "markdown",
   "id": "52b1d8b8-9e7e-4781-ad59-f3e7b6109ebb",
   "metadata": {},
   "source": [
    "On peut aussi accéder à l'url explicitement en accédant à l'attribut `.dashboard_link` du `client`. Complétez la ligne suivante pour le faire afficher : "
   ]
  },
  {
   "cell_type": "code",
   "execution_count": 13,
   "id": "0520e3c1-42a5-40ac-8610-128b32b3bfbd",
   "metadata": {
    "pycharm": {
     "is_executing": true
    }
   },
   "outputs": [
    {
     "name": "stdout",
     "output_type": "stream",
     "text": [
      "Le dashboard est accessible à l'url : http://127.0.0.1:8787/status\n"
     ]
    }
   ],
   "source": [
    "# à compléter\n",
    "print(f\"Le dashboard est accessible à l'url : {client.dashboard_link}\")"
   ]
  },
  {
   "cell_type": "markdown",
   "id": "2a876745-163d-469c-bb4e-5748af72b211",
   "metadata": {},
   "source": [
    "Les menus qui nous intéressent en général sont les menus **Status** (pour suivre l'avancée de calculs) et **Workers**, pour voir l'état du cluster."
   ]
  },
  {
   "cell_type": "markdown",
   "id": "b7a2cc9b-4aed-4ea6-8bcc-b1bfd098b7e1",
   "metadata": {},
   "source": [
    "---\n",
    "\n",
    "#### **Note**\n",
    "Dans le cas où le *dashboard* n'est pas accessible (pas de possibilité d'ouvrir une fenêtre graphique), il existe une solution de secours faisant appel à `ProgressBar` qui affichera une barre de progression dans la sortie standard. \n",
    "\n",
    "Il faut tout d'abord l'importer : \n",
    "```python\n",
    "from dask.diagnostics import ProgressBar\n",
    "```\n",
    "\n",
    "Ensuite, on a le choix entre l'instancier de manière globale en début de script (ou de notebook), auquel cas chaque calcul fera apparaitre une bar de progression : \n",
    "```python\n",
    "pb = ProgressBar()\n",
    "\n",
    "pb.register()\n",
    "\n",
    "...  # actual computations\n",
    "```\n",
    "\n",
    "ou alors contextuellement : \n",
    "```python\n",
    "with Progressbar() as pb:\n",
    "    ... # actual computations\n",
    "```\n",
    "\n",
    "Plus d'informations : \n",
    "[https://docs.dask.org/en/stable/diagnostics-local.html](https://docs.dask.org/en/stable/diagnostics-local.html)\n",
    "\n",
    "---"
   ]
  },
  {
   "cell_type": "markdown",
   "id": "99954f3e-6598-440d-b868-831500e83998",
   "metadata": {},
   "source": [
    "---\n",
    "\n",
    "### Question 5\n",
    "\n",
    "On peut à présent reprendre la fin de la **Question 2**, pour constater la réduction du temps de calcul obtenue en explicitant le nombre de *workers* utilisés par `dask`.\n",
    "\n",
    "En modifiant les lignes suivantes, réessayez de trouver le nombre optimal de partitions. Visualisez en parallèle l'état des calculs sur le *dashboard* ouvert précédemment."
   ]
  },
  {
   "cell_type": "code",
   "execution_count": 14,
   "id": "efd546f0-597e-4cc4-b544-908630e350c1",
   "metadata": {
    "pycharm": {
     "is_executing": true
    }
   },
   "outputs": [
    {
     "name": "stdout",
     "output_type": "stream",
     "text": [
      "Wall time: 13.9 s\n"
     ]
    }
   ],
   "source": [
    "%%time\n",
    "\n",
    "# à compléter\n",
    "first_int_bag = db.from_sequence(list(range(50)), npartitions=50)\n",
    "first_sqr_bag = first_int_bag.map(square)\n",
    "\n",
    "result = first_sqr_bag.compute()"
   ]
  },
  {
   "cell_type": "markdown",
   "id": "3fa2c185-f8c6-486c-91e1-c2b5cde6e5c9",
   "metadata": {},
   "source": [
    "---\n",
    "\n",
    "---\n",
    "\n",
    "---\n",
    "\n",
    "## PARTIE 2\n",
    "### Introduction aux `dask.array`\n",
    "\n",
    "Dans cette partie, on s'intéressera à une caractéristique très intéressante de `dask` pour le calcul scientifique, à savoir son intégration naturelle avec les structures de données de type `numpy`. Cela permet aux usagers de ce genre d'outils une amélioration de l'efficacité des codes sans changements de pratiques majeurs."
   ]
  },
  {
   "cell_type": "markdown",
   "id": "29705aa0-17c5-4121-a5d5-e9c2154fc7a7",
   "metadata": {},
   "source": [
    "---\n",
    "\n",
    "### Question 6\n",
    "\n",
    "Le but étant de se rendre compte de l'intérêt de la parallélisation par rapport à l'approche *classique*, on commence encore une fois par considérer le problème dans sa version *numpy*-esque standard.\n",
    "\n",
    "Commencez par créer un jeu de données `images` de taille $(100 \\times 1000 \\times 1000)$ initialisé avec des valeurs aléatoires, par exemple en utilisant `np.random.random` de `numpy`. Ce jeu de données peut simuler un set de 100 images satellites de taille $(1000 \\times 1000)$ pixels.\n",
    "\n",
    "Si cela devait faire crasher `jupyter`, réduisez le nombre de données de (100 à 10 par exemple), et n'oubliez pas de relancer le `client` et le `cluster`."
   ]
  },
  {
   "cell_type": "code",
   "execution_count": 15,
   "id": "19c09508-19cf-4a96-a034-455befc5ec4c",
   "metadata": {},
   "outputs": [
    {
     "name": "stdout",
     "output_type": "stream",
     "text": [
      "Wall time: 767 ms\n"
     ]
    }
   ],
   "source": [
    "%%time\n",
    "\n",
    "# à compléter\n",
    "images = np.random.random((100, 1000, 1000))"
   ]
  },
  {
   "cell_type": "markdown",
   "id": "b10a09b5-a568-44eb-86fe-4f7fa2490383",
   "metadata": {},
   "source": [
    "On peut évaluer la taille mémoire de `images` en utilisant l'attribut `.nbytes`, pour ensuite comparer cela à la mémoire vive disponible sur son ordinateur. Si maintenant on voulait traiter 10 ou 100 fois plus de données, cela ne rentrerait probablement pas en mémoire !"
   ]
  },
  {
   "cell_type": "code",
   "execution_count": 16,
   "id": "0fd89606-5beb-4e8d-90a0-93e36cf0023a",
   "metadata": {},
   "outputs": [
    {
     "name": "stdout",
     "output_type": "stream",
     "text": [
      "800000000\n"
     ]
    },
    {
     "data": {
      "text/plain": [
       "800.0"
      ]
     },
     "execution_count": 16,
     "metadata": {},
     "output_type": "execute_result"
    }
   ],
   "source": [
    "# lancez cette cellule\n",
    "print(images.nbytes)\n",
    "images.nbytes / 10**6  # in MB"
   ]
  },
  {
   "cell_type": "markdown",
   "id": "9b826324",
   "metadata": {
    "pycharm": {
     "name": "#%% md\n"
    }
   },
   "source": [
    "Effectuez à présent un petit calcul sur des données, par exemple en calculant \"l'image moyenne\" (c'est-à-dire moyennée selon le premier axe)."
   ]
  },
  {
   "cell_type": "code",
   "execution_count": 17,
   "id": "3b6cb683",
   "metadata": {
    "jupyter": {
     "outputs_hidden": false
    },
    "pycharm": {
     "is_executing": true,
     "name": "#%%\n"
    }
   },
   "outputs": [
    {
     "data": {
      "text/plain": [
       "<matplotlib.collections.QuadMesh at 0x266efe5b6a0>"
      ]
     },
     "execution_count": 17,
     "metadata": {},
     "output_type": "execute_result"
    },
    {
     "data": {
      "image/png": "[encoded data removed]",
      "text/plain": [
       "<Figure size 432x288 with 1 Axes>"
      ]
     },
     "metadata": {
      "needs_background": "light"
     },
     "output_type": "display_data"
    }
   ],
   "source": [
    "# à compléter\n",
    "\n",
    "plt.pcolormesh(images.mean(axis=0))"
   ]
  },
  {
   "cell_type": "markdown",
   "id": "3d85781b-7ce3-41eb-9c9e-5818dfe1c5ef",
   "metadata": {},
   "source": [
    "---\n",
    "\n",
    "### Question 7 \n",
    "\n",
    "Dans la question précédente, on n'a pas réellement besoin d'avoir l'ensemble des données au même moment en mémoire, et on pourrait se contenter de charger les données au moment du calcul, petit bout par petit bout pour ne jamais dépasser la taille de la mémoire.\n",
    "\n",
    "Si c'est impossible avec `numpy` directement - à moins de repenser la construction de son code - c'est bien ce pour quoi `dask` a été conçu.\n",
    "\n",
    "Créez un tableau `images_lazy` de taille $(100 \\times 1000 \\times 1000)$ initialisé avec des valeurs aléatoires et `dask.array` (importé au début en tant que `da`). Affichez le ensuite interactivement avec `jupyter` pour voir sa taille théorique, ainsi que le nombre de *chunks* et la taille de chacun."
   ]
  },
  {
   "cell_type": "code",
   "execution_count": 18,
   "id": "4eed852e-3c82-40f1-a6fa-ff7858b02399",
   "metadata": {
    "pycharm": {
     "is_executing": true
    }
   },
   "outputs": [
    {
     "data": {
      "text/html": [
       "<table>\n",
       "    <tr>\n",
       "        <td>\n",
       "            <table>\n",
       "                <thead>\n",
       "                    <tr>\n",
       "                        <td> </td>\n",
       "                        <th> Array </th>\n",
       "                        <th> Chunk </th>\n",
       "                    </tr>\n",
       "                </thead>\n",
       "                <tbody>\n",
       "                    \n",
       "                    <tr>\n",
       "                        <th> Bytes </th>\n",
       "                        <td> 7.45 GiB </td>\n",
       "                        <td> 119.21 MiB </td>\n",
       "                    </tr>\n",
       "                    \n",
       "                    <tr>\n",
       "                        <th> Shape </th>\n",
       "                        <td> (1000, 1000, 1000) </td>\n",
       "                        <td> (250, 250, 250) </td>\n",
       "                    </tr>\n",
       "                    <tr>\n",
       "                        <th> Count </th>\n",
       "                        <td> 64 Tasks </td>\n",
       "                        <td> 64 Chunks </td>\n",
       "                    </tr>\n",
       "                    <tr>\n",
       "                    <th> Type </th>\n",
       "                    <td> float64 </td>\n",
       "                    <td> numpy.ndarray </td>\n",
       "                    </tr>\n",
       "                </tbody>\n",
       "            </table>\n",
       "        </td>\n",
       "        <td>\n",
       "        <svg width=\"250\" height=\"240\" style=\"stroke:rgb(0,0,0);stroke-width:1\" >\n",
       "\n",
       "  <!-- Horizontal lines -->\n",
       "  <line x1=\"10\" y1=\"0\" x2=\"80\" y2=\"70\" style=\"stroke-width:2\" />\n",
       "  <line x1=\"10\" y1=\"30\" x2=\"80\" y2=\"100\" />\n",
       "  <line x1=\"10\" y1=\"60\" x2=\"80\" y2=\"130\" />\n",
       "  <line x1=\"10\" y1=\"90\" x2=\"80\" y2=\"160\" />\n",
       "  <line x1=\"10\" y1=\"120\" x2=\"80\" y2=\"190\" style=\"stroke-width:2\" />\n",
       "\n",
       "  <!-- Vertical lines -->\n",
       "  <line x1=\"10\" y1=\"0\" x2=\"10\" y2=\"120\" style=\"stroke-width:2\" />\n",
       "  <line x1=\"27\" y1=\"17\" x2=\"27\" y2=\"137\" />\n",
       "  <line x1=\"45\" y1=\"35\" x2=\"45\" y2=\"155\" />\n",
       "  <line x1=\"62\" y1=\"52\" x2=\"62\" y2=\"172\" />\n",
       "  <line x1=\"80\" y1=\"70\" x2=\"80\" y2=\"190\" style=\"stroke-width:2\" />\n",
       "\n",
       "  <!-- Colored Rectangle -->\n",
       "  <polygon points=\"10.0,0.0 80.58823529411765,70.58823529411765 80.58823529411765,190.58823529411765 10.0,120.0\" style=\"fill:#ECB172A0;stroke-width:0\"/>\n",
       "\n",
       "  <!-- Horizontal lines -->\n",
       "  <line x1=\"10\" y1=\"0\" x2=\"130\" y2=\"0\" style=\"stroke-width:2\" />\n",
       "  <line x1=\"27\" y1=\"17\" x2=\"147\" y2=\"17\" />\n",
       "  <line x1=\"45\" y1=\"35\" x2=\"165\" y2=\"35\" />\n",
       "  <line x1=\"62\" y1=\"52\" x2=\"182\" y2=\"52\" />\n",
       "  <line x1=\"80\" y1=\"70\" x2=\"200\" y2=\"70\" style=\"stroke-width:2\" />\n",
       "\n",
       "  <!-- Vertical lines -->\n",
       "  <line x1=\"10\" y1=\"0\" x2=\"80\" y2=\"70\" style=\"stroke-width:2\" />\n",
       "  <line x1=\"40\" y1=\"0\" x2=\"110\" y2=\"70\" />\n",
       "  <line x1=\"70\" y1=\"0\" x2=\"140\" y2=\"70\" />\n",
       "  <line x1=\"100\" y1=\"0\" x2=\"170\" y2=\"70\" />\n",
       "  <line x1=\"130\" y1=\"0\" x2=\"200\" y2=\"70\" style=\"stroke-width:2\" />\n",
       "\n",
       "  <!-- Colored Rectangle -->\n",
       "  <polygon points=\"10.0,0.0 130.0,0.0 200.58823529411765,70.58823529411765 80.58823529411765,70.58823529411765\" style=\"fill:#ECB172A0;stroke-width:0\"/>\n",
       "\n",
       "  <!-- Horizontal lines -->\n",
       "  <line x1=\"80\" y1=\"70\" x2=\"200\" y2=\"70\" style=\"stroke-width:2\" />\n",
       "  <line x1=\"80\" y1=\"100\" x2=\"200\" y2=\"100\" />\n",
       "  <line x1=\"80\" y1=\"130\" x2=\"200\" y2=\"130\" />\n",
       "  <line x1=\"80\" y1=\"160\" x2=\"200\" y2=\"160\" />\n",
       "  <line x1=\"80\" y1=\"190\" x2=\"200\" y2=\"190\" style=\"stroke-width:2\" />\n",
       "\n",
       "  <!-- Vertical lines -->\n",
       "  <line x1=\"80\" y1=\"70\" x2=\"80\" y2=\"190\" style=\"stroke-width:2\" />\n",
       "  <line x1=\"110\" y1=\"70\" x2=\"110\" y2=\"190\" />\n",
       "  <line x1=\"140\" y1=\"70\" x2=\"140\" y2=\"190\" />\n",
       "  <line x1=\"170\" y1=\"70\" x2=\"170\" y2=\"190\" />\n",
       "  <line x1=\"200\" y1=\"70\" x2=\"200\" y2=\"190\" style=\"stroke-width:2\" />\n",
       "\n",
       "  <!-- Colored Rectangle -->\n",
       "  <polygon points=\"80.58823529411765,70.58823529411765 200.58823529411765,70.58823529411765 200.58823529411765,190.58823529411765 80.58823529411765,190.58823529411765\" style=\"fill:#ECB172A0;stroke-width:0\"/>\n",
       "\n",
       "  <!-- Text -->\n",
       "  <text x=\"140.588235\" y=\"210.588235\" font-size=\"1.0rem\" font-weight=\"100\" text-anchor=\"middle\" >1000</text>\n",
       "  <text x=\"220.588235\" y=\"130.588235\" font-size=\"1.0rem\" font-weight=\"100\" text-anchor=\"middle\" transform=\"rotate(-90,220.588235,130.588235)\">1000</text>\n",
       "  <text x=\"35.294118\" y=\"175.294118\" font-size=\"1.0rem\" font-weight=\"100\" text-anchor=\"middle\" transform=\"rotate(45,35.294118,175.294118)\">1000</text>\n",
       "</svg>\n",
       "        </td>\n",
       "    </tr>\n",
       "</table>"
      ],
      "text/plain": [
       "dask.array<random_sample, shape=(1000, 1000, 1000), dtype=float64, chunksize=(250, 250, 250), chunktype=numpy.ndarray>"
      ]
     },
     "execution_count": 18,
     "metadata": {},
     "output_type": "execute_result"
    }
   ],
   "source": [
    "# à compléter\n",
    "images_lazy = da.random.random((1000,1000,1000))\n",
    "\n",
    "# affichage interactif\n",
    "images_lazy"
   ]
  },
  {
   "cell_type": "markdown",
   "id": "ca3102ac-4563-4fb2-9535-9b49c129c703",
   "metadata": {},
   "source": [
    "Définissez la taille par défaut des *chunks* en utilisant la méthode `rechunk`. On fera en sorte de faire des *chunks* de $10 \\times 100 \\times 100$. On peut aussi spécifier la taille des chunks lors de la création du tableau. "
   ]
  },
  {
   "cell_type": "code",
   "execution_count": 19,
   "id": "3e733d83-6627-42ed-9bca-47602ee173d8",
   "metadata": {
    "pycharm": {
     "is_executing": true
    }
   },
   "outputs": [
    {
     "data": {
      "text/html": [
       "<table>\n",
       "    <tr>\n",
       "        <td>\n",
       "            <table>\n",
       "                <thead>\n",
       "                    <tr>\n",
       "                        <td> </td>\n",
       "                        <th> Array </th>\n",
       "                        <th> Chunk </th>\n",
       "                    </tr>\n",
       "                </thead>\n",
       "                <tbody>\n",
       "                    \n",
       "                    <tr>\n",
       "                        <th> Bytes </th>\n",
       "                        <td> 7.45 GiB </td>\n",
       "                        <td> 19.07 MiB </td>\n",
       "                    </tr>\n",
       "                    \n",
       "                    <tr>\n",
       "                        <th> Shape </th>\n",
       "                        <td> (1000, 1000, 1000) </td>\n",
       "                        <td> (250, 100, 100) </td>\n",
       "                    </tr>\n",
       "                    <tr>\n",
       "                        <th> Count </th>\n",
       "                        <td> 1040 Tasks </td>\n",
       "                        <td> 400 Chunks </td>\n",
       "                    </tr>\n",
       "                    <tr>\n",
       "                    <th> Type </th>\n",
       "                    <td> float64 </td>\n",
       "                    <td> numpy.ndarray </td>\n",
       "                    </tr>\n",
       "                </tbody>\n",
       "            </table>\n",
       "        </td>\n",
       "        <td>\n",
       "        <svg width=\"250\" height=\"240\" style=\"stroke:rgb(0,0,0);stroke-width:1\" >\n",
       "\n",
       "  <!-- Horizontal lines -->\n",
       "  <line x1=\"10\" y1=\"0\" x2=\"80\" y2=\"70\" style=\"stroke-width:2\" />\n",
       "  <line x1=\"10\" y1=\"12\" x2=\"80\" y2=\"82\" />\n",
       "  <line x1=\"10\" y1=\"24\" x2=\"80\" y2=\"94\" />\n",
       "  <line x1=\"10\" y1=\"36\" x2=\"80\" y2=\"106\" />\n",
       "  <line x1=\"10\" y1=\"48\" x2=\"80\" y2=\"118\" />\n",
       "  <line x1=\"10\" y1=\"60\" x2=\"80\" y2=\"130\" />\n",
       "  <line x1=\"10\" y1=\"72\" x2=\"80\" y2=\"142\" />\n",
       "  <line x1=\"10\" y1=\"84\" x2=\"80\" y2=\"154\" />\n",
       "  <line x1=\"10\" y1=\"96\" x2=\"80\" y2=\"166\" />\n",
       "  <line x1=\"10\" y1=\"108\" x2=\"80\" y2=\"178\" />\n",
       "  <line x1=\"10\" y1=\"120\" x2=\"80\" y2=\"190\" style=\"stroke-width:2\" />\n",
       "\n",
       "  <!-- Vertical lines -->\n",
       "  <line x1=\"10\" y1=\"0\" x2=\"10\" y2=\"120\" style=\"stroke-width:2\" />\n",
       "  <line x1=\"27\" y1=\"17\" x2=\"27\" y2=\"137\" />\n",
       "  <line x1=\"45\" y1=\"35\" x2=\"45\" y2=\"155\" />\n",
       "  <line x1=\"62\" y1=\"52\" x2=\"62\" y2=\"172\" />\n",
       "  <line x1=\"80\" y1=\"70\" x2=\"80\" y2=\"190\" style=\"stroke-width:2\" />\n",
       "\n",
       "  <!-- Colored Rectangle -->\n",
       "  <polygon points=\"10.0,0.0 80.58823529411765,70.58823529411765 80.58823529411765,190.58823529411765 10.0,120.0\" style=\"fill:#ECB172A0;stroke-width:0\"/>\n",
       "\n",
       "  <!-- Horizontal lines -->\n",
       "  <line x1=\"10\" y1=\"0\" x2=\"130\" y2=\"0\" style=\"stroke-width:2\" />\n",
       "  <line x1=\"27\" y1=\"17\" x2=\"147\" y2=\"17\" />\n",
       "  <line x1=\"45\" y1=\"35\" x2=\"165\" y2=\"35\" />\n",
       "  <line x1=\"62\" y1=\"52\" x2=\"182\" y2=\"52\" />\n",
       "  <line x1=\"80\" y1=\"70\" x2=\"200\" y2=\"70\" style=\"stroke-width:2\" />\n",
       "\n",
       "  <!-- Vertical lines -->\n",
       "  <line x1=\"10\" y1=\"0\" x2=\"80\" y2=\"70\" style=\"stroke-width:2\" />\n",
       "  <line x1=\"22\" y1=\"0\" x2=\"92\" y2=\"70\" />\n",
       "  <line x1=\"34\" y1=\"0\" x2=\"104\" y2=\"70\" />\n",
       "  <line x1=\"46\" y1=\"0\" x2=\"116\" y2=\"70\" />\n",
       "  <line x1=\"58\" y1=\"0\" x2=\"128\" y2=\"70\" />\n",
       "  <line x1=\"70\" y1=\"0\" x2=\"140\" y2=\"70\" />\n",
       "  <line x1=\"82\" y1=\"0\" x2=\"152\" y2=\"70\" />\n",
       "  <line x1=\"94\" y1=\"0\" x2=\"164\" y2=\"70\" />\n",
       "  <line x1=\"106\" y1=\"0\" x2=\"176\" y2=\"70\" />\n",
       "  <line x1=\"118\" y1=\"0\" x2=\"188\" y2=\"70\" />\n",
       "  <line x1=\"130\" y1=\"0\" x2=\"200\" y2=\"70\" style=\"stroke-width:2\" />\n",
       "\n",
       "  <!-- Colored Rectangle -->\n",
       "  <polygon points=\"10.0,0.0 130.0,0.0 200.58823529411765,70.58823529411765 80.58823529411765,70.58823529411765\" style=\"fill:#ECB172A0;stroke-width:0\"/>\n",
       "\n",
       "  <!-- Horizontal lines -->\n",
       "  <line x1=\"80\" y1=\"70\" x2=\"200\" y2=\"70\" style=\"stroke-width:2\" />\n",
       "  <line x1=\"80\" y1=\"82\" x2=\"200\" y2=\"82\" />\n",
       "  <line x1=\"80\" y1=\"94\" x2=\"200\" y2=\"94\" />\n",
       "  <line x1=\"80\" y1=\"106\" x2=\"200\" y2=\"106\" />\n",
       "  <line x1=\"80\" y1=\"118\" x2=\"200\" y2=\"118\" />\n",
       "  <line x1=\"80\" y1=\"130\" x2=\"200\" y2=\"130\" />\n",
       "  <line x1=\"80\" y1=\"142\" x2=\"200\" y2=\"142\" />\n",
       "  <line x1=\"80\" y1=\"154\" x2=\"200\" y2=\"154\" />\n",
       "  <line x1=\"80\" y1=\"166\" x2=\"200\" y2=\"166\" />\n",
       "  <line x1=\"80\" y1=\"178\" x2=\"200\" y2=\"178\" />\n",
       "  <line x1=\"80\" y1=\"190\" x2=\"200\" y2=\"190\" style=\"stroke-width:2\" />\n",
       "\n",
       "  <!-- Vertical lines -->\n",
       "  <line x1=\"80\" y1=\"70\" x2=\"80\" y2=\"190\" style=\"stroke-width:2\" />\n",
       "  <line x1=\"92\" y1=\"70\" x2=\"92\" y2=\"190\" />\n",
       "  <line x1=\"104\" y1=\"70\" x2=\"104\" y2=\"190\" />\n",
       "  <line x1=\"116\" y1=\"70\" x2=\"116\" y2=\"190\" />\n",
       "  <line x1=\"128\" y1=\"70\" x2=\"128\" y2=\"190\" />\n",
       "  <line x1=\"140\" y1=\"70\" x2=\"140\" y2=\"190\" />\n",
       "  <line x1=\"152\" y1=\"70\" x2=\"152\" y2=\"190\" />\n",
       "  <line x1=\"164\" y1=\"70\" x2=\"164\" y2=\"190\" />\n",
       "  <line x1=\"176\" y1=\"70\" x2=\"176\" y2=\"190\" />\n",
       "  <line x1=\"188\" y1=\"70\" x2=\"188\" y2=\"190\" />\n",
       "  <line x1=\"200\" y1=\"70\" x2=\"200\" y2=\"190\" style=\"stroke-width:2\" />\n",
       "\n",
       "  <!-- Colored Rectangle -->\n",
       "  <polygon points=\"80.58823529411765,70.58823529411765 200.58823529411765,70.58823529411765 200.58823529411765,190.58823529411765 80.58823529411765,190.58823529411765\" style=\"fill:#ECB172A0;stroke-width:0\"/>\n",
       "\n",
       "  <!-- Text -->\n",
       "  <text x=\"140.588235\" y=\"210.588235\" font-size=\"1.0rem\" font-weight=\"100\" text-anchor=\"middle\" >1000</text>\n",
       "  <text x=\"220.588235\" y=\"130.588235\" font-size=\"1.0rem\" font-weight=\"100\" text-anchor=\"middle\" transform=\"rotate(-90,220.588235,130.588235)\">1000</text>\n",
       "  <text x=\"35.294118\" y=\"175.294118\" font-size=\"1.0rem\" font-weight=\"100\" text-anchor=\"middle\" transform=\"rotate(45,35.294118,175.294118)\">1000</text>\n",
       "</svg>\n",
       "        </td>\n",
       "    </tr>\n",
       "</table>"
      ],
      "text/plain": [
       "dask.array<rechunk-merge, shape=(1000, 1000, 1000), dtype=float64, chunksize=(250, 100, 100), chunktype=numpy.ndarray>"
      ]
     },
     "execution_count": 19,
     "metadata": {},
     "output_type": "execute_result"
    }
   ],
   "source": [
    "# à compléter\n",
    "images_lazy = images_lazy.rechunk((250,100,100))\n",
    "\n",
    "# affichage interactif\n",
    "images_lazy"
   ]
  },
  {
   "cell_type": "markdown",
   "id": "34d62e3d-2a21-43a2-9a4e-98da2e8d808c",
   "metadata": {},
   "source": [
    "---\n",
    "\n",
    "### Question 8 \n",
    "\n",
    "Calculez à présent l'image moyenne `image_mean_lazy` - c'est-à-dire moyennée sur la dimension `0` - toujours de manière paresseuse, donc sans demander explicitement à charger le résultat des calculs en mémoire. Affichez interactivement l'image moyenne."
   ]
  },
  {
   "cell_type": "code",
   "execution_count": 20,
   "id": "a560f525-d0a0-4891-8234-2d0806fc47bd",
   "metadata": {
    "pycharm": {
     "name": "#%%\n"
    }
   },
   "outputs": [
    {
     "data": {
      "text/html": [
       "<table>\n",
       "    <tr>\n",
       "        <td>\n",
       "            <table>\n",
       "                <thead>\n",
       "                    <tr>\n",
       "                        <td> </td>\n",
       "                        <th> Array </th>\n",
       "                        <th> Chunk </th>\n",
       "                    </tr>\n",
       "                </thead>\n",
       "                <tbody>\n",
       "                    \n",
       "                    <tr>\n",
       "                        <th> Bytes </th>\n",
       "                        <td> 7.63 MiB </td>\n",
       "                        <td> 78.12 kiB </td>\n",
       "                    </tr>\n",
       "                    \n",
       "                    <tr>\n",
       "                        <th> Shape </th>\n",
       "                        <td> (1000, 1000) </td>\n",
       "                        <td> (100, 100) </td>\n",
       "                    </tr>\n",
       "                    <tr>\n",
       "                        <th> Count </th>\n",
       "                        <td> 1540 Tasks </td>\n",
       "                        <td> 100 Chunks </td>\n",
       "                    </tr>\n",
       "                    <tr>\n",
       "                    <th> Type </th>\n",
       "                    <td> float64 </td>\n",
       "                    <td> numpy.ndarray </td>\n",
       "                    </tr>\n",
       "                </tbody>\n",
       "            </table>\n",
       "        </td>\n",
       "        <td>\n",
       "        <svg width=\"170\" height=\"170\" style=\"stroke:rgb(0,0,0);stroke-width:1\" >\n",
       "\n",
       "  <!-- Horizontal lines -->\n",
       "  <line x1=\"0\" y1=\"0\" x2=\"120\" y2=\"0\" style=\"stroke-width:2\" />\n",
       "  <line x1=\"0\" y1=\"12\" x2=\"120\" y2=\"12\" />\n",
       "  <line x1=\"0\" y1=\"24\" x2=\"120\" y2=\"24\" />\n",
       "  <line x1=\"0\" y1=\"36\" x2=\"120\" y2=\"36\" />\n",
       "  <line x1=\"0\" y1=\"48\" x2=\"120\" y2=\"48\" />\n",
       "  <line x1=\"0\" y1=\"60\" x2=\"120\" y2=\"60\" />\n",
       "  <line x1=\"0\" y1=\"72\" x2=\"120\" y2=\"72\" />\n",
       "  <line x1=\"0\" y1=\"84\" x2=\"120\" y2=\"84\" />\n",
       "  <line x1=\"0\" y1=\"96\" x2=\"120\" y2=\"96\" />\n",
       "  <line x1=\"0\" y1=\"108\" x2=\"120\" y2=\"108\" />\n",
       "  <line x1=\"0\" y1=\"120\" x2=\"120\" y2=\"120\" style=\"stroke-width:2\" />\n",
       "\n",
       "  <!-- Vertical lines -->\n",
       "  <line x1=\"0\" y1=\"0\" x2=\"0\" y2=\"120\" style=\"stroke-width:2\" />\n",
       "  <line x1=\"12\" y1=\"0\" x2=\"12\" y2=\"120\" />\n",
       "  <line x1=\"24\" y1=\"0\" x2=\"24\" y2=\"120\" />\n",
       "  <line x1=\"36\" y1=\"0\" x2=\"36\" y2=\"120\" />\n",
       "  <line x1=\"48\" y1=\"0\" x2=\"48\" y2=\"120\" />\n",
       "  <line x1=\"60\" y1=\"0\" x2=\"60\" y2=\"120\" />\n",
       "  <line x1=\"72\" y1=\"0\" x2=\"72\" y2=\"120\" />\n",
       "  <line x1=\"84\" y1=\"0\" x2=\"84\" y2=\"120\" />\n",
       "  <line x1=\"96\" y1=\"0\" x2=\"96\" y2=\"120\" />\n",
       "  <line x1=\"108\" y1=\"0\" x2=\"108\" y2=\"120\" />\n",
       "  <line x1=\"120\" y1=\"0\" x2=\"120\" y2=\"120\" style=\"stroke-width:2\" />\n",
       "\n",
       "  <!-- Colored Rectangle -->\n",
       "  <polygon points=\"0.0,0.0 120.0,0.0 120.0,120.0 0.0,120.0\" style=\"fill:#ECB172A0;stroke-width:0\"/>\n",
       "\n",
       "  <!-- Text -->\n",
       "  <text x=\"60.000000\" y=\"140.000000\" font-size=\"1.0rem\" font-weight=\"100\" text-anchor=\"middle\" >1000</text>\n",
       "  <text x=\"140.000000\" y=\"60.000000\" font-size=\"1.0rem\" font-weight=\"100\" text-anchor=\"middle\" transform=\"rotate(-90,140.000000,60.000000)\">1000</text>\n",
       "</svg>\n",
       "        </td>\n",
       "    </tr>\n",
       "</table>"
      ],
      "text/plain": [
       "dask.array<mean_agg-aggregate, shape=(1000, 1000), dtype=float64, chunksize=(100, 100), chunktype=numpy.ndarray>"
      ]
     },
     "execution_count": 20,
     "metadata": {},
     "output_type": "execute_result"
    }
   ],
   "source": [
    "# à compléter\n",
    "image_mean_lazy = images_lazy.mean(axis=0) # on peut dire que n'importe quel axe est l'axe du temps. On peut dire que c'est le 0 et les 2 autres lon lat\n",
    "\n",
    "# affichage interactif\n",
    "image_mean_lazy"
   ]
  },
  {
   "cell_type": "markdown",
   "id": "fc99d551",
   "metadata": {
    "pycharm": {
     "name": "#%% md\n"
    }
   },
   "source": [
    "Pour finir, il s'agit à présent de calculer explicitement le résultat.\n",
    "\n",
    "Lancez le calcul et surveillez la progression dans le dashboard dask ouvert précédemment."
   ]
  },
  {
   "cell_type": "code",
   "execution_count": 21,
   "id": "28d6fb0c-d82e-419a-989c-909a6651d108",
   "metadata": {
    "pycharm": {
     "is_executing": true
    }
   },
   "outputs": [
    {
     "name": "stdout",
     "output_type": "stream",
     "text": [
      "Wall time: 8.96 s\n"
     ]
    },
    {
     "data": {
      "text/plain": [
       "array([[0.49178146, 0.49396993, 0.50493805, ..., 0.50482054, 0.48706237,\n",
       "        0.52426454],\n",
       "       [0.49019477, 0.51175528, 0.49170586, ..., 0.51274575, 0.50868654,\n",
       "        0.49648036],\n",
       "       [0.49192958, 0.49178422, 0.49800523, ..., 0.50947596, 0.50117371,\n",
       "        0.49619794],\n",
       "       ...,\n",
       "       [0.49703799, 0.49966144, 0.50316085, ..., 0.49934914, 0.4938812 ,\n",
       "        0.49278021],\n",
       "       [0.50821543, 0.50944251, 0.50519101, ..., 0.48708196, 0.50376369,\n",
       "        0.48648983],\n",
       "       [0.51331611, 0.50917157, 0.48513236, ..., 0.48254696, 0.49563716,\n",
       "        0.51993486]])"
      ]
     },
     "execution_count": 21,
     "metadata": {},
     "output_type": "execute_result"
    }
   ],
   "source": [
    "%%time\n",
    "\n",
    "image_mean_lazy.compute()"
   ]
  },
  {
   "cell_type": "markdown",
   "id": "7fcc6ee6-474d-448c-a84f-a1042b59d291",
   "metadata": {},
   "source": [
    "On peut jouer avec la taille des *chunks* pour estimer la partition optimale des données en fonction du cluster instancié et de la taille du problème.\n",
    "\n"
   ]
  },
  {
   "cell_type": "markdown",
   "id": "f4ebecbf-2f65-4cd9-8997-78c7087d8f65",
   "metadata": {},
   "source": [
    "---\n",
    "---\n",
    "---"
   ]
  },
  {
   "cell_type": "markdown",
   "id": "0adee3bf-84f7-4192-b973-a80a325719f1",
   "metadata": {
    "tags": []
   },
   "source": [
    "## Bonus : `dask.dataframe`\n",
    " \n",
    "L'utilité de `dask` dans le cadre de `pandas` ou `xarray` se situant essentiellement dans la gestion de gros volumes de données, le sujet n'a pas été abordé ici afin de ne pas avoir à télécharger trop de choses.\n",
    "\n",
    "On peut cependant tester rapidement l'efficacité de `dask` pour effectuer des opérations usuelles sur des `dataframe` en utilisant une fonction de génération aléatoire proposée par `dask`."
   ]
  },
  {
   "cell_type": "code",
   "execution_count": 22,
   "id": "1ecd4d7b-3691-4945-933a-c3ab82005c0e",
   "metadata": {},
   "outputs": [
    {
     "name": "stderr",
     "output_type": "stream",
     "text": [
      "C:\\Users\\Tonton\\anaconda3\\lib\\site-packages\\dask\\dataframe\\core.py:5213: FutureWarning: iteritems is deprecated and will be removed in a future version. Use .items instead.\n",
      "  [_repr_data_series(s, index=index) for _, s in meta.iteritems()], axis=1\n",
      "C:\\Users\\Tonton\\anaconda3\\lib\\site-packages\\dask\\dataframe\\core.py:5213: FutureWarning: iteritems is deprecated and will be removed in a future version. Use .items instead.\n",
      "  [_repr_data_series(s, index=index) for _, s in meta.iteritems()], axis=1\n"
     ]
    },
    {
     "data": {
      "text/html": [
       "<div><strong>Dask DataFrame Structure:</strong></div>\n",
       "<div>\n",
       "<style scoped>\n",
       "    .dataframe tbody tr th:only-of-type {\n",
       "        vertical-align: middle;\n",
       "    }\n",
       "\n",
       "    .dataframe tbody tr th {\n",
       "        vertical-align: top;\n",
       "    }\n",
       "\n",
       "    .dataframe thead th {\n",
       "        text-align: right;\n",
       "    }\n",
       "</style>\n",
       "<table border=\"1\" class=\"dataframe\">\n",
       "  <thead>\n",
       "    <tr style=\"text-align: right;\">\n",
       "      <th></th>\n",
       "      <th>id</th>\n",
       "      <th>name</th>\n",
       "      <th>x</th>\n",
       "      <th>y</th>\n",
       "    </tr>\n",
       "    <tr>\n",
       "      <th>npartitions=30</th>\n",
       "      <th></th>\n",
       "      <th></th>\n",
       "      <th></th>\n",
       "      <th></th>\n",
       "    </tr>\n",
       "  </thead>\n",
       "  <tbody>\n",
       "    <tr>\n",
       "      <th>2000-01-01</th>\n",
       "      <td>int32</td>\n",
       "      <td>object</td>\n",
       "      <td>float64</td>\n",
       "      <td>float64</td>\n",
       "    </tr>\n",
       "    <tr>\n",
       "      <th>2000-01-02</th>\n",
       "      <td>...</td>\n",
       "      <td>...</td>\n",
       "      <td>...</td>\n",
       "      <td>...</td>\n",
       "    </tr>\n",
       "    <tr>\n",
       "      <th>...</th>\n",
       "      <td>...</td>\n",
       "      <td>...</td>\n",
       "      <td>...</td>\n",
       "      <td>...</td>\n",
       "    </tr>\n",
       "    <tr>\n",
       "      <th>2000-01-30</th>\n",
       "      <td>...</td>\n",
       "      <td>...</td>\n",
       "      <td>...</td>\n",
       "      <td>...</td>\n",
       "    </tr>\n",
       "    <tr>\n",
       "      <th>2000-01-31</th>\n",
       "      <td>...</td>\n",
       "      <td>...</td>\n",
       "      <td>...</td>\n",
       "      <td>...</td>\n",
       "    </tr>\n",
       "  </tbody>\n",
       "</table>\n",
       "</div>\n",
       "<div>Dask Name: make-timeseries, 30 tasks</div>"
      ],
      "text/plain": [
       "Dask DataFrame Structure:\n",
       "                   id    name        x        y\n",
       "npartitions=30                                 \n",
       "2000-01-01      int32  object  float64  float64\n",
       "2000-01-02        ...     ...      ...      ...\n",
       "...               ...     ...      ...      ...\n",
       "2000-01-30        ...     ...      ...      ...\n",
       "2000-01-31        ...     ...      ...      ...\n",
       "Dask Name: make-timeseries, 30 tasks"
      ]
     },
     "execution_count": 22,
     "metadata": {},
     "output_type": "execute_result"
    }
   ],
   "source": [
    "df = dask.datasets.timeseries()\n",
    "df"
   ]
  },
  {
   "cell_type": "markdown",
   "id": "55d21ab9-f798-4678-b2db-b1200122e756",
   "metadata": {},
   "source": [
    "Testons une opération usuelle, à savoir regrouper les données par valeur de `name` identiques, puis effectuer une moyenne sur une autre dimension. Cela prendra cette forme : "
   ]
  },
  {
   "cell_type": "code",
   "execution_count": 23,
   "id": "d97b81ed-e1a9-40e0-87db-e2592d063f99",
   "metadata": {},
   "outputs": [
    {
     "data": {
      "text/html": [
       "<div>\n",
       "<style scoped>\n",
       "    .dataframe tbody tr th:only-of-type {\n",
       "        vertical-align: middle;\n",
       "    }\n",
       "\n",
       "    .dataframe tbody tr th {\n",
       "        vertical-align: top;\n",
       "    }\n",
       "\n",
       "    .dataframe thead th {\n",
       "        text-align: right;\n",
       "    }\n",
       "</style>\n",
       "<table border=\"1\" class=\"dataframe\">\n",
       "  <thead>\n",
       "    <tr style=\"text-align: right;\">\n",
       "      <th></th>\n",
       "      <th>id</th>\n",
       "      <th>x</th>\n",
       "      <th>y</th>\n",
       "    </tr>\n",
       "    <tr>\n",
       "      <th>name</th>\n",
       "      <th></th>\n",
       "      <th></th>\n",
       "      <th></th>\n",
       "    </tr>\n",
       "  </thead>\n",
       "  <tbody>\n",
       "    <tr>\n",
       "      <th>Alice</th>\n",
       "      <td>1000.010704</td>\n",
       "      <td>-0.001936</td>\n",
       "      <td>-0.000011</td>\n",
       "    </tr>\n",
       "    <tr>\n",
       "      <th>Bob</th>\n",
       "      <td>999.945136</td>\n",
       "      <td>0.006084</td>\n",
       "      <td>0.000128</td>\n",
       "    </tr>\n",
       "    <tr>\n",
       "      <th>Charlie</th>\n",
       "      <td>999.931151</td>\n",
       "      <td>0.001218</td>\n",
       "      <td>0.002220</td>\n",
       "    </tr>\n",
       "    <tr>\n",
       "      <th>Dan</th>\n",
       "      <td>1000.015152</td>\n",
       "      <td>0.000960</td>\n",
       "      <td>-0.001116</td>\n",
       "    </tr>\n",
       "    <tr>\n",
       "      <th>Edith</th>\n",
       "      <td>1000.045408</td>\n",
       "      <td>-0.000588</td>\n",
       "      <td>0.000079</td>\n",
       "    </tr>\n",
       "    <tr>\n",
       "      <th>Frank</th>\n",
       "      <td>999.993618</td>\n",
       "      <td>-0.000070</td>\n",
       "      <td>-0.000516</td>\n",
       "    </tr>\n",
       "    <tr>\n",
       "      <th>George</th>\n",
       "      <td>1000.075709</td>\n",
       "      <td>0.003460</td>\n",
       "      <td>0.001884</td>\n",
       "    </tr>\n",
       "    <tr>\n",
       "      <th>Hannah</th>\n",
       "      <td>1000.111663</td>\n",
       "      <td>-0.000404</td>\n",
       "      <td>0.001598</td>\n",
       "    </tr>\n",
       "    <tr>\n",
       "      <th>Ingrid</th>\n",
       "      <td>999.916395</td>\n",
       "      <td>0.001410</td>\n",
       "      <td>0.001423</td>\n",
       "    </tr>\n",
       "    <tr>\n",
       "      <th>Jerry</th>\n",
       "      <td>999.908031</td>\n",
       "      <td>0.001869</td>\n",
       "      <td>0.002217</td>\n",
       "    </tr>\n",
       "    <tr>\n",
       "      <th>Kevin</th>\n",
       "      <td>999.949081</td>\n",
       "      <td>-0.000321</td>\n",
       "      <td>-0.000803</td>\n",
       "    </tr>\n",
       "    <tr>\n",
       "      <th>Laura</th>\n",
       "      <td>999.929224</td>\n",
       "      <td>0.002498</td>\n",
       "      <td>-0.002055</td>\n",
       "    </tr>\n",
       "    <tr>\n",
       "      <th>Michael</th>\n",
       "      <td>999.837503</td>\n",
       "      <td>-0.000571</td>\n",
       "      <td>-0.002290</td>\n",
       "    </tr>\n",
       "    <tr>\n",
       "      <th>Norbert</th>\n",
       "      <td>1000.030832</td>\n",
       "      <td>0.001633</td>\n",
       "      <td>-0.000965</td>\n",
       "    </tr>\n",
       "    <tr>\n",
       "      <th>Oliver</th>\n",
       "      <td>999.929741</td>\n",
       "      <td>-0.001158</td>\n",
       "      <td>-0.001612</td>\n",
       "    </tr>\n",
       "    <tr>\n",
       "      <th>Patricia</th>\n",
       "      <td>1000.106825</td>\n",
       "      <td>-0.000416</td>\n",
       "      <td>0.004348</td>\n",
       "    </tr>\n",
       "    <tr>\n",
       "      <th>Quinn</th>\n",
       "      <td>1000.176858</td>\n",
       "      <td>0.000300</td>\n",
       "      <td>-0.001575</td>\n",
       "    </tr>\n",
       "    <tr>\n",
       "      <th>Ray</th>\n",
       "      <td>999.947347</td>\n",
       "      <td>0.001909</td>\n",
       "      <td>0.000293</td>\n",
       "    </tr>\n",
       "    <tr>\n",
       "      <th>Sarah</th>\n",
       "      <td>999.997610</td>\n",
       "      <td>-0.001275</td>\n",
       "      <td>0.002018</td>\n",
       "    </tr>\n",
       "    <tr>\n",
       "      <th>Tim</th>\n",
       "      <td>1000.021959</td>\n",
       "      <td>0.001191</td>\n",
       "      <td>-0.002802</td>\n",
       "    </tr>\n",
       "    <tr>\n",
       "      <th>Ursula</th>\n",
       "      <td>999.908277</td>\n",
       "      <td>-0.000485</td>\n",
       "      <td>-0.000997</td>\n",
       "    </tr>\n",
       "    <tr>\n",
       "      <th>Victor</th>\n",
       "      <td>1000.158445</td>\n",
       "      <td>0.002372</td>\n",
       "      <td>-0.000392</td>\n",
       "    </tr>\n",
       "    <tr>\n",
       "      <th>Wendy</th>\n",
       "      <td>1000.128442</td>\n",
       "      <td>0.000773</td>\n",
       "      <td>-0.000506</td>\n",
       "    </tr>\n",
       "    <tr>\n",
       "      <th>Xavier</th>\n",
       "      <td>1000.183558</td>\n",
       "      <td>-0.000921</td>\n",
       "      <td>0.003532</td>\n",
       "    </tr>\n",
       "    <tr>\n",
       "      <th>Yvonne</th>\n",
       "      <td>1000.100204</td>\n",
       "      <td>-0.001318</td>\n",
       "      <td>0.000003</td>\n",
       "    </tr>\n",
       "    <tr>\n",
       "      <th>Zelda</th>\n",
       "      <td>1000.030524</td>\n",
       "      <td>0.001050</td>\n",
       "      <td>-0.002852</td>\n",
       "    </tr>\n",
       "  </tbody>\n",
       "</table>\n",
       "</div>"
      ],
      "text/plain": [
       "                   id         x         y\n",
       "name                                     \n",
       "Alice     1000.010704 -0.001936 -0.000011\n",
       "Bob        999.945136  0.006084  0.000128\n",
       "Charlie    999.931151  0.001218  0.002220\n",
       "Dan       1000.015152  0.000960 -0.001116\n",
       "Edith     1000.045408 -0.000588  0.000079\n",
       "Frank      999.993618 -0.000070 -0.000516\n",
       "George    1000.075709  0.003460  0.001884\n",
       "Hannah    1000.111663 -0.000404  0.001598\n",
       "Ingrid     999.916395  0.001410  0.001423\n",
       "Jerry      999.908031  0.001869  0.002217\n",
       "Kevin      999.949081 -0.000321 -0.000803\n",
       "Laura      999.929224  0.002498 -0.002055\n",
       "Michael    999.837503 -0.000571 -0.002290\n",
       "Norbert   1000.030832  0.001633 -0.000965\n",
       "Oliver     999.929741 -0.001158 -0.001612\n",
       "Patricia  1000.106825 -0.000416  0.004348\n",
       "Quinn     1000.176858  0.000300 -0.001575\n",
       "Ray        999.947347  0.001909  0.000293\n",
       "Sarah      999.997610 -0.001275  0.002018\n",
       "Tim       1000.021959  0.001191 -0.002802\n",
       "Ursula     999.908277 -0.000485 -0.000997\n",
       "Victor    1000.158445  0.002372 -0.000392\n",
       "Wendy     1000.128442  0.000773 -0.000506\n",
       "Xavier    1000.183558 -0.000921  0.003532\n",
       "Yvonne    1000.100204 -0.001318  0.000003\n",
       "Zelda     1000.030524  0.001050 -0.002852"
      ]
     },
     "execution_count": 23,
     "metadata": {},
     "output_type": "execute_result"
    }
   ],
   "source": [
    "dg = df.groupby(\"name\").mean()\n",
    "\n",
    "# Comme c'est un dask.dataframe par défaut, le calcul est lazy et il faut demander explicitement le résultat\n",
    "dg.compute()"
   ]
  },
  {
   "cell_type": "markdown",
   "id": "0d51f4fb-2a1f-4057-9505-325ea7fb5d3b",
   "metadata": {},
   "source": [
    "Avec de si petites données (30 lignes), le calcul est assez rapide. On peut cependant augmenter la taille des données en précisant la date de fin :"
   ]
  },
  {
   "cell_type": "code",
   "execution_count": 24,
   "id": "391884b9-2708-4e78-96e7-600be870db03",
   "metadata": {},
   "outputs": [],
   "source": [
    "df_big = dask.datasets.timeseries(end=\"2010-12-31\")"
   ]
  },
  {
   "cell_type": "markdown",
   "id": "7ec747d0-e46e-4f74-9260-dd4e04811379",
   "metadata": {},
   "source": [
    "On peut à présent apprécier l'effet de la parallélisation en regardant la progression de l'opération suivante dans le dashboard `dask` : "
   ]
  },
  {
   "cell_type": "code",
   "execution_count": 25,
   "id": "99cbfbb4-b7a9-404e-8cb7-9f0c23f968e6",
   "metadata": {},
   "outputs": [
    {
     "data": {
      "text/html": [
       "<div>\n",
       "<style scoped>\n",
       "    .dataframe tbody tr th:only-of-type {\n",
       "        vertical-align: middle;\n",
       "    }\n",
       "\n",
       "    .dataframe tbody tr th {\n",
       "        vertical-align: top;\n",
       "    }\n",
       "\n",
       "    .dataframe thead th {\n",
       "        text-align: right;\n",
       "    }\n",
       "</style>\n",
       "<table border=\"1\" class=\"dataframe\">\n",
       "  <thead>\n",
       "    <tr style=\"text-align: right;\">\n",
       "      <th></th>\n",
       "      <th>id</th>\n",
       "      <th>x</th>\n",
       "      <th>y</th>\n",
       "    </tr>\n",
       "    <tr>\n",
       "      <th>name</th>\n",
       "      <th></th>\n",
       "      <th></th>\n",
       "      <th></th>\n",
       "    </tr>\n",
       "  </thead>\n",
       "  <tbody>\n",
       "    <tr>\n",
       "      <th>Alice</th>\n",
       "      <td>1000.012672</td>\n",
       "      <td>-0.000095</td>\n",
       "      <td>0.000184</td>\n",
       "    </tr>\n",
       "    <tr>\n",
       "      <th>Bob</th>\n",
       "      <td>999.999537</td>\n",
       "      <td>0.000043</td>\n",
       "      <td>0.000122</td>\n",
       "    </tr>\n",
       "    <tr>\n",
       "      <th>Charlie</th>\n",
       "      <td>999.993849</td>\n",
       "      <td>-0.000229</td>\n",
       "      <td>-0.000065</td>\n",
       "    </tr>\n",
       "    <tr>\n",
       "      <th>Dan</th>\n",
       "      <td>999.991912</td>\n",
       "      <td>0.000212</td>\n",
       "      <td>-0.000103</td>\n",
       "    </tr>\n",
       "    <tr>\n",
       "      <th>Edith</th>\n",
       "      <td>999.993043</td>\n",
       "      <td>-0.000287</td>\n",
       "      <td>-0.000022</td>\n",
       "    </tr>\n",
       "    <tr>\n",
       "      <th>Frank</th>\n",
       "      <td>999.996200</td>\n",
       "      <td>-0.000157</td>\n",
       "      <td>0.000074</td>\n",
       "    </tr>\n",
       "    <tr>\n",
       "      <th>George</th>\n",
       "      <td>999.996062</td>\n",
       "      <td>0.000067</td>\n",
       "      <td>0.000066</td>\n",
       "    </tr>\n",
       "    <tr>\n",
       "      <th>Hannah</th>\n",
       "      <td>1000.004780</td>\n",
       "      <td>0.000081</td>\n",
       "      <td>-0.000040</td>\n",
       "    </tr>\n",
       "    <tr>\n",
       "      <th>Ingrid</th>\n",
       "      <td>999.991158</td>\n",
       "      <td>-0.000205</td>\n",
       "      <td>-0.000009</td>\n",
       "    </tr>\n",
       "    <tr>\n",
       "      <th>Jerry</th>\n",
       "      <td>999.992919</td>\n",
       "      <td>0.000011</td>\n",
       "      <td>0.000020</td>\n",
       "    </tr>\n",
       "    <tr>\n",
       "      <th>Kevin</th>\n",
       "      <td>999.999924</td>\n",
       "      <td>0.000199</td>\n",
       "      <td>0.000109</td>\n",
       "    </tr>\n",
       "    <tr>\n",
       "      <th>Laura</th>\n",
       "      <td>999.990465</td>\n",
       "      <td>0.000016</td>\n",
       "      <td>0.000089</td>\n",
       "    </tr>\n",
       "    <tr>\n",
       "      <th>Michael</th>\n",
       "      <td>999.973145</td>\n",
       "      <td>0.000107</td>\n",
       "      <td>0.000091</td>\n",
       "    </tr>\n",
       "    <tr>\n",
       "      <th>Norbert</th>\n",
       "      <td>1000.006369</td>\n",
       "      <td>-0.000095</td>\n",
       "      <td>0.000225</td>\n",
       "    </tr>\n",
       "    <tr>\n",
       "      <th>Oliver</th>\n",
       "      <td>1000.015149</td>\n",
       "      <td>-0.000365</td>\n",
       "      <td>0.000075</td>\n",
       "    </tr>\n",
       "    <tr>\n",
       "      <th>Patricia</th>\n",
       "      <td>999.994150</td>\n",
       "      <td>0.000161</td>\n",
       "      <td>-0.000375</td>\n",
       "    </tr>\n",
       "    <tr>\n",
       "      <th>Quinn</th>\n",
       "      <td>1000.005528</td>\n",
       "      <td>0.000219</td>\n",
       "      <td>0.000047</td>\n",
       "    </tr>\n",
       "    <tr>\n",
       "      <th>Ray</th>\n",
       "      <td>1000.018143</td>\n",
       "      <td>0.000133</td>\n",
       "      <td>-0.000152</td>\n",
       "    </tr>\n",
       "    <tr>\n",
       "      <th>Sarah</th>\n",
       "      <td>1000.000024</td>\n",
       "      <td>0.000125</td>\n",
       "      <td>-0.000103</td>\n",
       "    </tr>\n",
       "    <tr>\n",
       "      <th>Tim</th>\n",
       "      <td>999.997311</td>\n",
       "      <td>-0.000060</td>\n",
       "      <td>-0.000067</td>\n",
       "    </tr>\n",
       "    <tr>\n",
       "      <th>Ursula</th>\n",
       "      <td>999.998385</td>\n",
       "      <td>0.000088</td>\n",
       "      <td>-0.000065</td>\n",
       "    </tr>\n",
       "    <tr>\n",
       "      <th>Victor</th>\n",
       "      <td>999.999863</td>\n",
       "      <td>0.000282</td>\n",
       "      <td>-0.000122</td>\n",
       "    </tr>\n",
       "    <tr>\n",
       "      <th>Wendy</th>\n",
       "      <td>999.988549</td>\n",
       "      <td>0.000103</td>\n",
       "      <td>0.000105</td>\n",
       "    </tr>\n",
       "    <tr>\n",
       "      <th>Xavier</th>\n",
       "      <td>1000.010584</td>\n",
       "      <td>-0.000089</td>\n",
       "      <td>-0.000152</td>\n",
       "    </tr>\n",
       "    <tr>\n",
       "      <th>Yvonne</th>\n",
       "      <td>1000.004894</td>\n",
       "      <td>-0.000033</td>\n",
       "      <td>-0.000055</td>\n",
       "    </tr>\n",
       "    <tr>\n",
       "      <th>Zelda</th>\n",
       "      <td>1000.000230</td>\n",
       "      <td>0.000258</td>\n",
       "      <td>0.000140</td>\n",
       "    </tr>\n",
       "  </tbody>\n",
       "</table>\n",
       "</div>"
      ],
      "text/plain": [
       "                   id         x         y\n",
       "name                                     \n",
       "Alice     1000.012672 -0.000095  0.000184\n",
       "Bob        999.999537  0.000043  0.000122\n",
       "Charlie    999.993849 -0.000229 -0.000065\n",
       "Dan        999.991912  0.000212 -0.000103\n",
       "Edith      999.993043 -0.000287 -0.000022\n",
       "Frank      999.996200 -0.000157  0.000074\n",
       "George     999.996062  0.000067  0.000066\n",
       "Hannah    1000.004780  0.000081 -0.000040\n",
       "Ingrid     999.991158 -0.000205 -0.000009\n",
       "Jerry      999.992919  0.000011  0.000020\n",
       "Kevin      999.999924  0.000199  0.000109\n",
       "Laura      999.990465  0.000016  0.000089\n",
       "Michael    999.973145  0.000107  0.000091\n",
       "Norbert   1000.006369 -0.000095  0.000225\n",
       "Oliver    1000.015149 -0.000365  0.000075\n",
       "Patricia   999.994150  0.000161 -0.000375\n",
       "Quinn     1000.005528  0.000219  0.000047\n",
       "Ray       1000.018143  0.000133 -0.000152\n",
       "Sarah     1000.000024  0.000125 -0.000103\n",
       "Tim        999.997311 -0.000060 -0.000067\n",
       "Ursula     999.998385  0.000088 -0.000065\n",
       "Victor     999.999863  0.000282 -0.000122\n",
       "Wendy      999.988549  0.000103  0.000105\n",
       "Xavier    1000.010584 -0.000089 -0.000152\n",
       "Yvonne    1000.004894 -0.000033 -0.000055\n",
       "Zelda     1000.000230  0.000258  0.000140"
      ]
     },
     "execution_count": 25,
     "metadata": {},
     "output_type": "execute_result"
    }
   ],
   "source": [
    "dg_big = df_big.groupby(\"name\").mean()\n",
    "dg_big.compute()"
   ]
  },
  {
   "cell_type": "markdown",
   "id": "492fe72d-e110-4016-9fb7-a26ffc3c330c",
   "metadata": {},
   "source": [
    "D'autres opérations plus complexes sont possibles. Libre à vous de tester !"
   ]
  },
  {
   "cell_type": "markdown",
   "id": "1b611ba3-60c3-4674-ad16-606a2986bfe6",
   "metadata": {},
   "source": [
    "---\n",
    "---\n",
    "---"
   ]
  },
  {
   "cell_type": "markdown",
   "id": "e9cf38b4-44bb-4b07-9a3c-07a9f9c612a1",
   "metadata": {
    "pycharm": {
     "name": "#%% md\n"
    }
   },
   "source": [
    "## Liens utiles\n",
    "\n",
    "#### **Références générales**\n",
    "\n",
    "De manière évidente, la documentation du package elle-même :\n",
    "[https://docs.dask.org/en/stable/](https://docs.dask.org/en/stable/)\n",
    "Elle est très bien faite et très complète.\n",
    "\n",
    "Il est aussi intéressant de regarder quelques tutoriels sur cette chaîne, en particulier les premiers :\n",
    "[https://www.youtube.com/@Dask-dev/videos](https://www.youtube.com/@Dask-dev/videos)\n",
    "$\\rightarrow$ certains sont d'ailleurs intégrés dans la documentation, n'hésitez pas à y jeter un oeil !\n",
    "\n",
    "---\n",
    "\n",
    "#### **Références plus spécifiques**\n",
    "\n",
    "Dask delayed (API bas niveau), pour paralléliser des opérations très spécifiques :\n",
    "[https://docs.dask.org/en/stable/delayed-best-practices.html](https://docs.dask.org/en/stable/delayed-best-practices.html)\n",
    "\n",
    "Comprendre un peu mieux l'ordonnancement des tâches :\n",
    "[https://docs.dask.org/en/stable/scheduling.html](https://docs.dask.org/en/stable/scheduling.html)\n",
    "\n",
    "L'ensemble des fonctions implémentées pour les `dask.array` :\n",
    "[https://docs.dask.org/en/stable/array-api.html](https://docs.dask.org/en/stable/array-api.html)\n",
    "\n",
    "Pour en savoir plus sur les **graphes de tâches** :\n",
    "[https://docs.dask.org/en/stable/graphs.html](https://docs.dask.org/en/stable/graphs.html)\n",
    "$\\rightarrow$ le sujet n'a pas été abordé ici car leur visualisation demande d'installer quelques packages supplémentaires, ce qui peut être plus ou moins pénible."
   ]
  },
  {
   "cell_type": "code",
   "execution_count": null,
   "id": "c5b45a57",
   "metadata": {
    "jupyter": {
     "outputs_hidden": false
    },
    "pycharm": {
     "name": "#%%\n"
    }
   },
   "outputs": [],
   "source": []
  }
 ],
 "metadata": {
  "kernelspec": {
   "display_name": "Python 3 (ipykernel)",
   "language": "python",
   "name": "python3"
  },
  "language_info": {
   "codemirror_mode": {
    "name": "ipython",
    "version": 3
   },
   "file_extension": ".py",
   "mimetype": "text/x-python",
   "name": "python",
   "nbconvert_exporter": "python",
   "pygments_lexer": "ipython3",
   "version": "3.9.7"
  }
 },
 "nbformat": 4,
 "nbformat_minor": 5
}
